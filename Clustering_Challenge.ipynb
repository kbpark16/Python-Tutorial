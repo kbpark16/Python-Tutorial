{
 "cells": [
  {
   "cell_type": "markdown",
   "metadata": {},
   "source": [
    "# Clustering(K-means, Hierarchical)\n",
    "목표: K-means, Hierarchcial Clustering 결과와,\n",
    "실제 Label(품종) 과의 비교 and 시각화"
   ]
  },
  {
   "cell_type": "markdown",
   "metadata": {},
   "source": [
    "# 0. 데이터 전처리 (2010_Census_Populations_by_Zip_Code)"
   ]
  },
  {
   "cell_type": "markdown",
   "metadata": {},
   "source": [
    "0) 필요한 라이브러리 import "
   ]
  },
  {
   "cell_type": "code",
   "execution_count": 16,
   "metadata": {},
   "outputs": [
    {
     "name": "stdout",
     "output_type": "stream",
     "text": [
      "Once deleted, variables cannot be recovered. Proceed (y/[n])? y\n"
     ]
    }
   ],
   "source": [
    "%reset"
   ]
  },
  {
   "cell_type": "code",
   "execution_count": 17,
   "metadata": {},
   "outputs": [],
   "source": [
    "import numpy as np\n",
    "import pandas as pd"
   ]
  },
  {
   "cell_type": "markdown",
   "metadata": {},
   "source": [
    "1) importing flat files with pandas-R의 dataframe과 유사,excel과 유사 \n",
    "  - numpy로도 가능하지만 array형식이어서,\n",
    "   \n",
    "   pandas 형태로 불러들이는 것이 데이터 핸들링에 편하다 (칼럼명도 나와있고)"
   ]
  },
  {
   "cell_type": "code",
   "execution_count": 18,
   "metadata": {},
   "outputs": [],
   "source": [
    "filename='2010_Census_Populations_by_Zip_Code.csv'\n",
    "data= pd.read_csv(filename)"
   ]
  },
  {
   "cell_type": "markdown",
   "metadata": {},
   "source": [
    "2) 처음 5개 행만 확인 - R의 head() 함수와 유사"
   ]
  },
  {
   "cell_type": "code",
   "execution_count": 19,
   "metadata": {},
   "outputs": [
    {
     "data": {
      "text/html": [
       "<div>\n",
       "<style scoped>\n",
       "    .dataframe tbody tr th:only-of-type {\n",
       "        vertical-align: middle;\n",
       "    }\n",
       "\n",
       "    .dataframe tbody tr th {\n",
       "        vertical-align: top;\n",
       "    }\n",
       "\n",
       "    .dataframe thead th {\n",
       "        text-align: right;\n",
       "    }\n",
       "</style>\n",
       "<table border=\"1\" class=\"dataframe\">\n",
       "  <thead>\n",
       "    <tr style=\"text-align: right;\">\n",
       "      <th></th>\n",
       "      <th>Zip Code</th>\n",
       "      <th>Total Population</th>\n",
       "      <th>Median Age</th>\n",
       "      <th>Total Males</th>\n",
       "      <th>Total Females</th>\n",
       "      <th>Total Households</th>\n",
       "      <th>Average Household Size</th>\n",
       "    </tr>\n",
       "  </thead>\n",
       "  <tbody>\n",
       "    <tr>\n",
       "      <th>count</th>\n",
       "      <td>319.000000</td>\n",
       "      <td>319.000000</td>\n",
       "      <td>319.000000</td>\n",
       "      <td>319.000000</td>\n",
       "      <td>319.000000</td>\n",
       "      <td>319.000000</td>\n",
       "      <td>319.000000</td>\n",
       "    </tr>\n",
       "    <tr>\n",
       "      <th>mean</th>\n",
       "      <td>91000.673981</td>\n",
       "      <td>33241.341693</td>\n",
       "      <td>36.527586</td>\n",
       "      <td>16391.564263</td>\n",
       "      <td>16849.777429</td>\n",
       "      <td>10964.570533</td>\n",
       "      <td>2.828119</td>\n",
       "    </tr>\n",
       "    <tr>\n",
       "      <th>std</th>\n",
       "      <td>908.360203</td>\n",
       "      <td>21644.417455</td>\n",
       "      <td>8.692999</td>\n",
       "      <td>10747.495566</td>\n",
       "      <td>10934.986468</td>\n",
       "      <td>6270.646400</td>\n",
       "      <td>0.835658</td>\n",
       "    </tr>\n",
       "    <tr>\n",
       "      <th>min</th>\n",
       "      <td>90001.000000</td>\n",
       "      <td>0.000000</td>\n",
       "      <td>0.000000</td>\n",
       "      <td>0.000000</td>\n",
       "      <td>0.000000</td>\n",
       "      <td>0.000000</td>\n",
       "      <td>0.000000</td>\n",
       "    </tr>\n",
       "    <tr>\n",
       "      <th>25%</th>\n",
       "      <td>90243.500000</td>\n",
       "      <td>19318.500000</td>\n",
       "      <td>32.400000</td>\n",
       "      <td>9763.500000</td>\n",
       "      <td>9633.500000</td>\n",
       "      <td>6765.500000</td>\n",
       "      <td>2.435000</td>\n",
       "    </tr>\n",
       "    <tr>\n",
       "      <th>50%</th>\n",
       "      <td>90807.000000</td>\n",
       "      <td>31481.000000</td>\n",
       "      <td>37.100000</td>\n",
       "      <td>15283.000000</td>\n",
       "      <td>16202.000000</td>\n",
       "      <td>10968.000000</td>\n",
       "      <td>2.830000</td>\n",
       "    </tr>\n",
       "    <tr>\n",
       "      <th>75%</th>\n",
       "      <td>91417.000000</td>\n",
       "      <td>44978.000000</td>\n",
       "      <td>41.000000</td>\n",
       "      <td>22219.500000</td>\n",
       "      <td>22690.500000</td>\n",
       "      <td>14889.500000</td>\n",
       "      <td>3.320000</td>\n",
       "    </tr>\n",
       "    <tr>\n",
       "      <th>max</th>\n",
       "      <td>93591.000000</td>\n",
       "      <td>105549.000000</td>\n",
       "      <td>74.000000</td>\n",
       "      <td>52794.000000</td>\n",
       "      <td>53185.000000</td>\n",
       "      <td>31087.000000</td>\n",
       "      <td>4.670000</td>\n",
       "    </tr>\n",
       "  </tbody>\n",
       "</table>\n",
       "</div>"
      ],
      "text/plain": [
       "           Zip Code  Total Population  Median Age   Total Males  \\\n",
       "count    319.000000        319.000000  319.000000    319.000000   \n",
       "mean   91000.673981      33241.341693   36.527586  16391.564263   \n",
       "std      908.360203      21644.417455    8.692999  10747.495566   \n",
       "min    90001.000000          0.000000    0.000000      0.000000   \n",
       "25%    90243.500000      19318.500000   32.400000   9763.500000   \n",
       "50%    90807.000000      31481.000000   37.100000  15283.000000   \n",
       "75%    91417.000000      44978.000000   41.000000  22219.500000   \n",
       "max    93591.000000     105549.000000   74.000000  52794.000000   \n",
       "\n",
       "       Total Females  Total Households  Average Household Size  \n",
       "count     319.000000        319.000000              319.000000  \n",
       "mean    16849.777429      10964.570533                2.828119  \n",
       "std     10934.986468       6270.646400                0.835658  \n",
       "min         0.000000          0.000000                0.000000  \n",
       "25%      9633.500000       6765.500000                2.435000  \n",
       "50%     16202.000000      10968.000000                2.830000  \n",
       "75%     22690.500000      14889.500000                3.320000  \n",
       "max     53185.000000      31087.000000                4.670000  "
      ]
     },
     "execution_count": 19,
     "metadata": {},
     "output_type": "execute_result"
    }
   ],
   "source": [
    "data.describe()"
   ]
  },
  {
   "cell_type": "markdown",
   "metadata": {},
   "source": [
    "# 1. Zip Code 제거 - K-means clustering 에 사용안함"
   ]
  },
  {
   "cell_type": "code",
   "execution_count": 20,
   "metadata": {},
   "outputs": [],
   "source": [
    "data=data.drop(['Zip Code'],axis=1)"
   ]
  },
  {
   "cell_type": "markdown",
   "metadata": {},
   "source": [
    "# 결측값 제거 "
   ]
  },
  {
   "cell_type": "code",
   "execution_count": 21,
   "metadata": {},
   "outputs": [],
   "source": [
    "data=data.dropna(how=\"any\")"
   ]
  },
  {
   "cell_type": "markdown",
   "metadata": {},
   "source": [
    "# 첫번째 관측치 제거 "
   ]
  },
  {
   "cell_type": "code",
   "execution_count": 22,
   "metadata": {},
   "outputs": [],
   "source": [
    "data=data[1:]"
   ]
  },
  {
   "cell_type": "markdown",
   "metadata": {},
   "source": [
    "# 1. K-means Clustering"
   ]
  },
  {
   "cell_type": "code",
   "execution_count": 23,
   "metadata": {},
   "outputs": [],
   "source": [
    "from sklearn.cluster import KMeans"
   ]
  },
  {
   "cell_type": "markdown",
   "metadata": {},
   "source": [
    "1) k-means cluster에서, k, 즉 , 군집갯수를 결정해야함 (탐색범위 k=1~15)"
   ]
  },
  {
   "cell_type": "code",
   "execution_count": 24,
   "metadata": {},
   "outputs": [],
   "source": [
    "from scipy.spatial.distance import cdist\n",
    "clusters=range(1,15)\n",
    "meandist=[]"
   ]
  },
  {
   "cell_type": "markdown",
   "metadata": {},
   "source": [
    "3) 아래에서 구하려는 그래프 : 군집갯수 k에 따른 SSE plot( Elbow point k 가 opimal number of clusters)\n",
    "\n",
    "- x축이 cluster 갯수, y축이 SSE: 각 점들이 할당되는 클러스터의 Centroid까지의 거리를 모든 포인트에 대해 합한것\n",
    "- 이것이 작을수록 좋은 것인데, Elbow point란 이 Y 축이 딱 꺾이는 점 혹은 그 이후 값을 좋은 Cluster 갯수로 택한다. \n",
    "\n"
   ]
  },
  {
   "cell_type": "code",
   "execution_count": 25,
   "metadata": {},
   "outputs": [
    {
     "data": {
      "text/plain": [
       "Text(0.5,1,'Selecting k with the Elbow Method')"
      ]
     },
     "execution_count": 25,
     "metadata": {},
     "output_type": "execute_result"
    },
    {
     "data": {
      "image/png": "[encoded data removed]",
      "text/plain": [
       "<Figure size 432x288 with 1 Axes>"
      ]
     },
     "metadata": {},
     "output_type": "display_data"
    }
   ],
   "source": [
    "np.random.seed(1337) # for reproducibility - 지정해주지 않으면 clustering 결과가 바뀐다.\n",
    "\n",
    "from scipy.spatial.distance import cdist\n",
    "import matplotlib.pylab as plt\n",
    "clusters=range(1,15)\n",
    "meandist=[]\n",
    "\n",
    "for k in clusters:\n",
    "    model=KMeans(n_clusters=k)\n",
    "    model.fit(data)\n",
    "    clusassign=model.predict(data)\n",
    "    meandist.append(sum(np.min(cdist(data, model.cluster_centers_, 'euclidean'), axis=1))\n",
    "    / data.shape[0])\n",
    "\n",
    "plt.plot(clusters, meandist)\n",
    "plt.xlabel('Number of clusters')\n",
    "plt.ylabel('Average distance')\n",
    "plt.title('Selecting k with the Elbow Method') \n",
    "# pick the fewest number of clusters that reduces the average distance\n",
    "# If you observe after 3 we can see graph is almost linear"
   ]
  },
  {
   "cell_type": "markdown",
   "metadata": {},
   "source": [
    "4) 위의 plot 에서 Elbow point를 k=2으로 보고 k=2인 k-means clustering 수행"
   ]
  },
  {
   "cell_type": "code",
   "execution_count": 26,
   "metadata": {},
   "outputs": [
    {
     "data": {
      "text/plain": [
       "KMeans(algorithm='auto', copy_x=True, init='k-means++', max_iter=300,\n",
       "    n_clusters=2, n_init=10, n_jobs=1, precompute_distances='auto',\n",
       "    random_state=None, tol=0.0001, verbose=0)"
      ]
     },
     "execution_count": 26,
     "metadata": {},
     "output_type": "execute_result"
    }
   ],
   "source": [
    "np.random.seed(1337) # for reproducibility - 지정해주지 않으면 clustering 결과가 바뀐다.\n",
    "\n",
    "model = KMeans(n_clusters=2)\n",
    "model.fit(data)"
   ]
  },
  {
   "cell_type": "code",
   "execution_count": 27,
   "metadata": {
    "scrolled": true
   },
   "outputs": [
    {
     "name": "stdout",
     "output_type": "stream",
     "text": [
      "[1 1 1 1 0 1 0 0 0 1 0 0 0 0 1 0 1 1 0 0 1 1 1 1 1 1 0 0 0 1 1 1 0 0 1 0 0\n",
      " 0 0 1 1 1 0 1 1 0 0 0 1 0 0 0 0 1 0 1 1 0 0 0 0 0 0 0 0 0 0 0 1 0 0 0 1 1\n",
      " 0 0 0 0 1 1 0 1 0 0 1 0 1 0 1 0 0 0 0 0 0 1 0 0 1 0 0 0 0 0 0 0 0 0 0 0 0\n",
      " 0 0 1 0 1 0 0 0 0 0 0 0 0 0 0 0 1 1 1 1 1 1 0 0 1 0 1 0 0 0 0 0 0 0 1 1 0\n",
      " 0 1 1 0 0 0 0 0 0 1 1 0 0 0 1 0 0 0 0 0 0 0 0 0 0 0 0 0 0 0 0 0 0 0 0 0 0\n",
      " 0 0 0 0 0 0 0 0 0 0 0 0 0 0 0 1 1 0 0 0 0 0 0 0 0 1 1 0 1 1 1 0 0 0 1 0 0\n",
      " 0 0 0 0 0 0 0 0 0 0 0 1 0 1 1 0 0 0 0 0 0 0 0 0 0 0 1 1 0 0 1 1 1 1 0 0 0\n",
      " 0 0 1 1 0 0 1 1 0 1 0 0 0 0 0 1 1 1 0 1 0 0 0 0 0 1 1 1 0 0 1 0 0 0 0 0 0\n",
      " 0 1 0 1 0 0 0 0 0 0 0 1 1 0 0 1 1 0 0 0 0 0]\n"
     ]
    }
   ],
   "source": [
    "print(model.labels_)"
   ]
  },
  {
   "cell_type": "markdown",
   "metadata": {},
   "source": [
    "5) 원래 iris data(이름:data)에 k-means clustering 결과 할당된 cluster column 추가\n",
    " - 원래 label과 비교 용 : 여러 Insight를 얻을 수 있음\n",
    " - 시각화 기능 : 수치로 보는 것보다 시각화는 한 눈에 보기 때문에 더 좋음 "
   ]
  },
  {
   "cell_type": "code",
   "execution_count": 28,
   "metadata": {},
   "outputs": [],
   "source": [
    "data['predictedY'] = model.labels_"
   ]
  },
  {
   "cell_type": "code",
   "execution_count": 29,
   "metadata": {},
   "outputs": [
    {
     "data": {
      "text/plain": [
       "0    226\n",
       "1     92\n",
       "Name: predictedY, dtype: int64"
      ]
     },
     "execution_count": 29,
     "metadata": {},
     "output_type": "execute_result"
    }
   ],
   "source": [
    "data['predictedY'].value_counts()"
   ]
  },
  {
   "cell_type": "markdown",
   "metadata": {},
   "source": [
    "6) K-means 결과 시각화 (x축: petal.length, y축: petal.width, 점의 색깔: 클러스터 결과(0,1,2))"
   ]
  },
  {
   "cell_type": "code",
   "execution_count": 30,
   "metadata": {},
   "outputs": [
    {
     "data": {
      "text/plain": [
       "<seaborn.axisgrid.FacetGrid at 0x20017cec748>"
      ]
     },
     "execution_count": 30,
     "metadata": {},
     "output_type": "execute_result"
    },
    {
     "data": {
      "image/png": "[encoded data removed]",
      "text/plain": [
       "<Figure size 421.625x360 with 1 Axes>"
      ]
     },
     "metadata": {},
     "output_type": "display_data"
    }
   ],
   "source": [
    "import seaborn as sns;\n",
    "import matplotlib.pyplot as plt #Visualize \n",
    "sns.FacetGrid(data, hue=\"predictedY\", size=5) \\\n",
    "   .map(plt.scatter, \"Median Age\", \"Total Households\") \\\n",
    "   .add_legend()"
   ]
  }
 ],
 "metadata": {
  "kernelspec": {
   "display_name": "Python 3",
   "language": "python",
   "name": "python3"
  },
  "language_info": {
   "codemirror_mode": {
    "name": "ipython",
    "version": 3
   },
   "file_extension": ".py",
   "mimetype": "text/x-python",
   "name": "python",
   "nbconvert_exporter": "python",
   "pygments_lexer": "ipython3",
   "version": "3.6.5"
  }
 },
 "nbformat": 4,
 "nbformat_minor": 2
}
