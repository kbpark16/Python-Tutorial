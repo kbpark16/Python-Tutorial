{
 "cells": [
  {
   "cell_type": "markdown",
   "metadata": {},
   "source": [
    "# Tutorial- Deep Learning Using Keras, Python"
   ]
  },
  {
   "cell_type": "markdown",
   "metadata": {},
   "source": [
    "# 1. 데이터 전처리 파트 "
   ]
  },
  {
   "cell_type": "code",
   "execution_count": 33,
   "metadata": {},
   "outputs": [
    {
     "name": "stdout",
     "output_type": "stream",
     "text": [
      "Once deleted, variables cannot be recovered. Proceed (y/[n])? y\n"
     ]
    }
   ],
   "source": [
    "%reset"
   ]
  },
  {
   "cell_type": "code",
   "execution_count": 34,
   "metadata": {},
   "outputs": [],
   "source": [
    "from keras.datasets import mnist #MNIST "
   ]
  },
  {
   "cell_type": "markdown",
   "metadata": {},
   "source": [
    "0) Train/Test set의 images(X:픽셀값들) / labels(Y:실제 라벨:0~9) 따로 저장"
   ]
  },
  {
   "cell_type": "code",
   "execution_count": 35,
   "metadata": {},
   "outputs": [],
   "source": [
    "(train_images, train_labels), (test_images, test_labels)= mnist.load_data()"
   ]
  },
  {
   "cell_type": "markdown",
   "metadata": {},
   "source": [
    "1) MNIST Training set의 5번째 이미지- python은 0부터 셈 ,  픽셀값 확인 해봄 ( 28 BY 28 이고, 픽셀값이 클수록 해당 부분이 진한 것이다. )"
   ]
  },
  {
   "cell_type": "markdown",
   "metadata": {},
   "source": [
    "# 2. 모델링(학습과정, 4-layer network, softmax classifier : 분류 문제)\n",
    "- 픽셀값들을 기반으로, 어느 부분이 진한지를 확인해서, 이 숫자가 0~9부터 어느 숫자일 것인지를 예측하는 모델을 만들어보자"
   ]
  },
  {
   "cell_type": "markdown",
   "metadata": {},
   "source": [
    "0)  입력층, 은닉층, 출력층, 총 3개 레이어 짜리 네트워크를 구성하기 위한 패키지 import"
   ]
  },
  {
   "cell_type": "code",
   "execution_count": 36,
   "metadata": {},
   "outputs": [],
   "source": [
    "from keras import models\n",
    "from keras import layers"
   ]
  },
  {
   "cell_type": "markdown",
   "metadata": {},
   "source": [
    "1) 네트워크 정의, input_shape: 28*28(mnist), 출력층의 노드수: 10개(0부터 9까지를 분류하는 네트워크이므로)"
   ]
  },
  {
   "cell_type": "code",
   "execution_count": 37,
   "metadata": {},
   "outputs": [],
   "source": [
    "network=models.Sequential()\n",
    "network.add(layers.Dense(512, activation='relu', input_shape=(28*28,)))\n",
    "network.add(layers.Dense(300, activation='relu'))\n",
    "network.add(layers.Dense(10, activation='softmax'))"
   ]
  },
  {
   "cell_type": "markdown",
   "metadata": {},
   "source": [
    "loss function(학습에 이용할 손실함수 정의): categorical_crossentropy, optimizer(최적화 방식): rmsprop, 학습중 보여줄 지표: accuracy"
   ]
  },
  {
   "cell_type": "code",
   "execution_count": 38,
   "metadata": {},
   "outputs": [],
   "source": [
    "network.compile(optimizer='rmsprop',loss='categorical_crossentropy',metrics=['accuracy'])"
   ]
  },
  {
   "cell_type": "markdown",
   "metadata": {},
   "source": [
    "2) 모델에 맞게 전처리\n",
    "- Hidden layer의 input_shape에 맞게 28*28로 reshape, Training sample은 6만개, Test sample은 1만개\n",
    "- 뉴럴 네트워크는 scale에 민감하기 때문에, scaling 필요함 - 픽셀별로 진하기를 표현하기 위해, 0부터 255까지 값을 갖는데, 255로 나눠서 0부터 1 사이의 값들로 모두 Scaling 해줌"
   ]
  },
  {
   "cell_type": "code",
   "execution_count": 39,
   "metadata": {},
   "outputs": [],
   "source": [
    "train_images= train_images.reshape((60000,28*28)) \n",
    "train_images= train_images.astype('float32')/255 \n",
    "\n",
    "test_images= test_images.reshape((10000,28*28)) \n",
    "test_images= test_images.astype('float32') /255  "
   ]
  },
  {
   "cell_type": "markdown",
   "metadata": {},
   "source": [
    "3) Y 변수: label(0~9)에 대해, one-hot encoding을 해줘야함 - 케라스 특징"
   ]
  },
  {
   "cell_type": "code",
   "execution_count": 40,
   "metadata": {},
   "outputs": [],
   "source": [
    "from keras.utils import to_categorical\n",
    "train_labels= to_categorical(train_labels)\n",
    "test_labels= to_categorical(test_labels)"
   ]
  },
  {
   "cell_type": "markdown",
   "metadata": {},
   "source": [
    "4) fit은 학습을 진행하라는 의미, train_images: X(픽셀값들), train_labels: Y(0~9), \n",
    "batch size: 60,000개 중 128개씩 나눠서 학습, \n",
    "    epoch: 60,000개 전부 학습을 5번 반복\n",
    "- 참고: 1. batch size =128 (미니배치방법) 나눠서 학습 , 2. 배치방법:한꺼번에 모든 샘플 한꺼번에 학습, 3. sgd: 확률적으로 1개씩 학습"
   ]
  },
  {
   "cell_type": "code",
   "execution_count": 41,
   "metadata": {},
   "outputs": [
    {
     "name": "stdout",
     "output_type": "stream",
     "text": [
      "Epoch 1/5\n",
      "60000/60000 [==============================] - 2s 28us/step - loss: 0.2251 - acc: 0.9317\n",
      "Epoch 2/5\n",
      "60000/60000 [==============================] - 1s 24us/step - loss: 0.0834 - acc: 0.9743\n",
      "Epoch 3/5\n",
      "60000/60000 [==============================] - 2s 26us/step - loss: 0.0549 - acc: 0.9825\n",
      "Epoch 4/5\n",
      "60000/60000 [==============================] - 2s 25us/step - loss: 0.0385 - acc: 0.9881\n",
      "Epoch 5/5\n",
      "60000/60000 [==============================] - 1s 24us/step - loss: 0.0279 - acc: 0.9911\n"
     ]
    },
    {
     "data": {
      "text/plain": [
       "<keras.callbacks.History at 0x28eeafbd3c8>"
      ]
     },
     "execution_count": 41,
     "metadata": {},
     "output_type": "execute_result"
    }
   ],
   "source": [
    "network.fit(train_images, train_labels, epochs=5, batch_size=128)"
   ]
  },
  {
   "cell_type": "markdown",
   "metadata": {},
   "source": [
    "# 3. 모델 검증(Using test set, by accuracy)"
   ]
  },
  {
   "cell_type": "markdown",
   "metadata": {},
   "source": [
    "0) 위에서 학습시킨 'network'라는 모델을, 미리 정의해둔 test_images(new X), test_labels(new Y)로 모델 검증 "
   ]
  },
  {
   "cell_type": "code",
   "execution_count": 42,
   "metadata": {},
   "outputs": [
    {
     "name": "stdout",
     "output_type": "stream",
     "text": [
      "10000/10000 [==============================] - 0s 35us/step\n"
     ]
    }
   ],
   "source": [
    "test_loss, test_acc= network.evaluate(test_images, test_labels)"
   ]
  },
  {
   "cell_type": "markdown",
   "metadata": {},
   "source": [
    "1) 모델 검증 결과 확인 : ACCURACY: XX"
   ]
  },
  {
   "cell_type": "code",
   "execution_count": 43,
   "metadata": {
    "scrolled": true
   },
   "outputs": [
    {
     "name": "stdout",
     "output_type": "stream",
     "text": [
      "test_acc: 0.9756\n"
     ]
    }
   ],
   "source": [
    "print('test_acc:', test_acc) "
   ]
  }
 ],
 "metadata": {
  "kernelspec": {
   "display_name": "Python 3",
   "language": "python",
   "name": "python3"
  },
  "language_info": {
   "codemirror_mode": {
    "name": "ipython",
    "version": 3
   },
   "file_extension": ".py",
   "mimetype": "text/x-python",
   "name": "python",
   "nbconvert_exporter": "python",
   "pygments_lexer": "ipython3",
   "version": "3.5.5"
  }
 },
 "nbformat": 4,
 "nbformat_minor": 2
}
