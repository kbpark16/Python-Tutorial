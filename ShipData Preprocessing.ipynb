{
 "cells": [
  {
   "cell_type": "markdown",
   "metadata": {},
   "source": [
    "# Import Multiple Datasets in csv format"
   ]
  },
  {
   "cell_type": "markdown",
   "metadata": {},
   "source": [
    "1.    데이터 전처리 (Data_Description 파일 기준)\n",
    "\n",
    "제외조건1)    20번 Propeller RPM 기준 20% 이상 급변하는 가속/감속 구간(약 20분) 데이터 제외\n",
    "\n",
    "제외조건2)    2번 Validity가 FALSE인 데이터 제외\n",
    "\n",
    "제외조건3)    11번 Sea Depth는 분석에서 제외\n",
    "\n",
    "제외조건4)    5번 Speed over Ground가 10knots 이하 또는 16.5knots 이상인 데이터 제외\n",
    "\n",
    "제외조건5)    14번 True Wind Speed가 Beaufort Scale 4 이상인 데이터 제외\n",
    "\n",
    "* https://en.wikipedia.org/wiki/Beaufort_scale\n",
    "\n",
    "제외조건6)    27번 ~ 40번 (기상데이터) 중 데이터 값이 ‘9999’ 또는 ‘-9999’ 인 데이터 or 결측치(NaN) 제외"
   ]
  },
  {
   "cell_type": "markdown",
   "metadata": {},
   "source": [
    "# 제외조건 1) 급속구간 부터 20분간 데이터 삭제"
   ]
  },
  {
   "cell_type": "code",
   "execution_count": null,
   "metadata": {},
   "outputs": [],
   "source": [
    "%reset"
   ]
  },
  {
   "cell_type": "code",
   "execution_count": null,
   "metadata": {},
   "outputs": [],
   "source": [
    "import numpy as np\n",
    "import pandas as pd"
   ]
  },
  {
   "cell_type": "code",
   "execution_count": null,
   "metadata": {},
   "outputs": [],
   "source": [
    "filepaths = ['9421984_201709.csv', '9421984_201710.csv','9421984_201711.csv','9421984_201801.csv','9421984_201802.csv','9421984_201803.csv','9421984_201804.csv','9421984_201805.csv','9421984_201806.csv','9421984_201807.csv','9421984_201808.csv','9421984_201809.csv','9421984_201810.csv','9421984_201811.csv']\n",
    "ShipData = pd.concat(map(pd.read_csv, filepaths))"
   ]
  },
  {
   "cell_type": "code",
   "execution_count": null,
   "metadata": {},
   "outputs": [],
   "source": [
    "# 이렇게 해야 index 0,1,2,3,4,5,6,7,8,9 가 겹치지 않는다. (이 전에 그냥 concat하면 index=0인 obs가 여러개 - 문제됨 -행렬 방식이 아님 )\n",
    "ShipData.index = np.arange(len(ShipData))\n",
    "ShipData.index"
   ]
  },
  {
   "cell_type": "code",
   "execution_count": null,
   "metadata": {},
   "outputs": [],
   "source": [
    "# 앞뒤 전후 차이 계산한 새로운 variable 정의 \n",
    "ShipData[\"RPM change\"]=abs(ShipData[\"Propeller RPM\"].diff()*100/ShipData[\"Propeller RPM\"])"
   ]
  },
  {
   "cell_type": "code",
   "execution_count": null,
   "metadata": {
    "scrolled": true
   },
   "outputs": [],
   "source": [
    "# 20% 초과 포인트: 3576개\n",
    "sum(ShipData[\"RPM change\"]>20)"
   ]
  },
  {
   "cell_type": "code",
   "execution_count": null,
   "metadata": {},
   "outputs": [],
   "source": [
    "start=list(ShipData[(ShipData[\"RPM change\"]>20)].index)\n",
    "print(start)"
   ]
  },
  {
   "cell_type": "code",
   "execution_count": null,
   "metadata": {
    "scrolled": false
   },
   "outputs": [],
   "source": [
    "last=list(ShipData[(ShipData[\"RPM change\"]>20)].index+120)"
   ]
  },
  {
   "cell_type": "code",
   "execution_count": null,
   "metadata": {},
   "outputs": [],
   "source": [
    "def moonsu (i) :  \n",
    "    a = np.arange(start[i],last[i],1)\n",
    "    return a\n",
    "# np.arange(start[1],last[1],1)  # 시작, 끝(포함하지 않음), 단계"
   ]
  },
  {
   "cell_type": "code",
   "execution_count": null,
   "metadata": {},
   "outputs": [],
   "source": [
    "list_to_append = []\n",
    "for i in range(3576) : \n",
    "    result = moonsu(i)\n",
    "    list_to_append.append(result)"
   ]
  },
  {
   "cell_type": "code",
   "execution_count": null,
   "metadata": {
    "scrolled": true
   },
   "outputs": [],
   "source": [
    "abnormal=np.asarray(list_to_append)"
   ]
  },
  {
   "cell_type": "code",
   "execution_count": null,
   "metadata": {},
   "outputs": [],
   "source": [
    "abnormal2=abnormal.flatten()"
   ]
  },
  {
   "cell_type": "code",
   "execution_count": null,
   "metadata": {},
   "outputs": [],
   "source": [
    "#중복제거한 인덱스 만들기 \n",
    "import numpy as np\n",
    "y = np.bincount(abnormal2)\n",
    "ii = np.nonzero(y)[0]\n",
    "len(ii)"
   ]
  },
  {
   "cell_type": "code",
   "execution_count": null,
   "metadata": {},
   "outputs": [],
   "source": [
    "#ShipData2: 비정상 운행 구간 삭제 (90900개 관측치)\n",
    "ShipData2=ShipData.drop(ShipData.index[ii])\n",
    "ShipData2.shape"
   ]
  },
  {
   "cell_type": "markdown",
   "metadata": {},
   "source": [
    "# 제외조건 2) Validity가 FALSE인 데이터 제외"
   ]
  },
  {
   "cell_type": "code",
   "execution_count": null,
   "metadata": {},
   "outputs": [],
   "source": [
    "ShipData3=ShipData2[ShipData2.Validity != False]"
   ]
  },
  {
   "cell_type": "code",
   "execution_count": null,
   "metadata": {},
   "outputs": [],
   "source": [
    "ShipData3.Validity.describe()"
   ]
  },
  {
   "cell_type": "markdown",
   "metadata": {},
   "source": [
    "# 제외조건 3) Sea Depth 분석에서 제외"
   ]
  },
  {
   "cell_type": "code",
   "execution_count": null,
   "metadata": {},
   "outputs": [],
   "source": [
    "ShipData4=ShipData3.drop(['Voyage','From','To','Status','Validity','Sea Depth'],axis=1)"
   ]
  },
  {
   "cell_type": "code",
   "execution_count": null,
   "metadata": {},
   "outputs": [],
   "source": [
    "ShipData4.head()"
   ]
  },
  {
   "cell_type": "code",
   "execution_count": null,
   "metadata": {},
   "outputs": [],
   "source": [
    "ShipData4.columns #Sea Depth 제외 확인 "
   ]
  },
  {
   "cell_type": "markdown",
   "metadata": {},
   "source": [
    "# 제외조건 4)  5번 Speed over Ground가 10knots 이하 또는 16.5knots 이상인 데이터 제외"
   ]
  },
  {
   "cell_type": "code",
   "execution_count": null,
   "metadata": {},
   "outputs": [],
   "source": [
    "ShipData5=ShipData4.drop(ShipData4[(ShipData4[\"Speed over Ground\"]<=10)|(ShipData4[\"Speed over Ground\"]>=16.5)].index)"
   ]
  },
  {
   "cell_type": "code",
   "execution_count": null,
   "metadata": {},
   "outputs": [],
   "source": [
    "ShipData5[\"Speed over Ground\"].describe() # 검토완료 "
   ]
  },
  {
   "cell_type": "markdown",
   "metadata": {},
   "source": [
    "# 제외조건 5) 14번 True Wind Speed가 Beaufort Scale 4 이상인 데이터 제외( 풍속 5.5m/s 이상 ) "
   ]
  },
  {
   "cell_type": "code",
   "execution_count": null,
   "metadata": {},
   "outputs": [],
   "source": [
    "ShipData6=ShipData5.drop(ShipData5[(ShipData5[\"True Wind Speed\"]>=5.5)].index)"
   ]
  },
  {
   "cell_type": "code",
   "execution_count": null,
   "metadata": {},
   "outputs": [],
   "source": [
    "ShipData6[\"True Wind Speed\"].describe() # 검토완료"
   ]
  },
  {
   "cell_type": "markdown",
   "metadata": {},
   "source": [
    "# 제외조건6)    27번 ~ 40번 (기상데이터) 중 데이터 값이 ‘9999’ 또는 ‘-9999’ 인 데이터 or 결측치(NaN) 제외"
   ]
  },
  {
   "cell_type": "code",
   "execution_count": null,
   "metadata": {},
   "outputs": [],
   "source": [
    "# 1.  결측치 제외 : any는 행의 성분에 NaN이 하나라도 있으면 그 행을 제거 하라는 뜻 - 1189개 남음\n",
    "ShipData7=ShipData6.dropna(how=\"any\")"
   ]
  },
  {
   "cell_type": "code",
   "execution_count": null,
   "metadata": {},
   "outputs": [],
   "source": [
    "ShipData7.describe()"
   ]
  },
  {
   "cell_type": "code",
   "execution_count": null,
   "metadata": {},
   "outputs": [],
   "source": [
    "ShipData7[ShipData7.Latitude !=999]"
   ]
  },
  {
   "cell_type": "code",
   "execution_count": null,
   "metadata": {},
   "outputs": [],
   "source": [
    "ShipData7[ShipData7.Latitude !=-999]"
   ]
  },
  {
   "cell_type": "code",
   "execution_count": null,
   "metadata": {},
   "outputs": [],
   "source": [
    "ShipData7[ShipData7.Latitude !=-9999]"
   ]
  },
  {
   "cell_type": "code",
   "execution_count": null,
   "metadata": {},
   "outputs": [],
   "source": [
    "ShipData7[ShipData7.Latitude !=9999]"
   ]
  },
  {
   "cell_type": "code",
   "execution_count": null,
   "metadata": {},
   "outputs": [],
   "source": [
    "# 검토: 모든변수 (39개 변수) 에서 999 or -999/ 9999 or -9999가 있는지 확인 -없음 \n",
    "for i in range(39):\n",
    "    print(len(ShipData7[ShipData7.iloc[:,i] !=9999])) "
   ]
  },
  {
   "cell_type": "code",
   "execution_count": null,
   "metadata": {},
   "outputs": [],
   "source": [
    "for i in range(39):\n",
    "    print(len(ShipData7[ShipData7.iloc[:,i] !=-9999])) #-999,9999,-9999"
   ]
  },
  {
   "cell_type": "code",
   "execution_count": null,
   "metadata": {},
   "outputs": [],
   "source": [
    "for i in range(39):\n",
    "    print(len(ShipData7[ShipData7.iloc[:,i] !=999])) "
   ]
  },
  {
   "cell_type": "code",
   "execution_count": null,
   "metadata": {},
   "outputs": [],
   "source": [
    "for i in range(39):\n",
    "    print(len(ShipData7[ShipData7.iloc[:,i] !=-999])) "
   ]
  },
  {
   "cell_type": "markdown",
   "metadata": {},
   "source": [
    "# 최종 전처리된 Dataframe csv파일로 내보내기 "
   ]
  },
  {
   "cell_type": "code",
   "execution_count": null,
   "metadata": {},
   "outputs": [],
   "source": [
    "ShipData7.to_csv('ship.csv') #최종 전처리된 Dataframe csv파일로 내보내기 "
   ]
  }
 ],
 "metadata": {
  "kernelspec": {
   "display_name": "Python 3",
   "language": "python",
   "name": "python3"
  },
  "language_info": {
   "codemirror_mode": {
    "name": "ipython",
    "version": 3
   },
   "file_extension": ".py",
   "mimetype": "text/x-python",
   "name": "python",
   "nbconvert_exporter": "python",
   "pygments_lexer": "ipython3",
   "version": "3.6.5"
  }
 },
 "nbformat": 4,
 "nbformat_minor": 2
}
